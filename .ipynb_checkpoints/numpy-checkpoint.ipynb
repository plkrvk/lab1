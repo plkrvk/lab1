{
 "cells": [
  {
   "cell_type": "markdown",
   "metadata": {
    "id": "vC84e9kzyxPy"
   },
   "source": [
    "<h1>Импорт библиотек"
   ]
  },
  {
   "cell_type": "code",
   "execution_count": 4,
   "metadata": {
    "id": "cgKeNegmQG5S"
   },
   "outputs": [],
   "source": [
    "import numpy as np\n",
    "import matplotlib.pyplot as plt"
   ]
  },
  {
   "cell_type": "markdown",
   "metadata": {
    "id": "qFM9uVU2x4Ls"
   },
   "source": [
    "<h1>Задача 1. Дан набор из $p$ матриц размерностью $(n, n)$ и $p$ векторов размерностью $(n, 1)$, найти сумму произведений матриц на векторы. Написать тесты для кода"
   ]
  },
  {
   "cell_type": "code",
   "execution_count": 7,
   "metadata": {
    "id": "IAbUvEiYyWFF"
   },
   "outputs": [],
   "source": [
    "def sum_prod(X, V):\n",
    "    result = sum(np.dot(matrix, vector) for matrix, vector in zip(X, V))\n",
    "    return result\n",
    "\n",
    "\n",
    "X = [np.array([[1, 2], [3, 4]]), np.array([[5, 6], [7, 8]])]\n",
    "V = [np.array([[1], [2]]), np.array([[3], [4]])]\n",
    "assert np.all(sum_prod(X, V) == np.array([[44], [64]]))"
   ]
  },
  {
   "cell_type": "markdown",
   "metadata": {
    "id": "TKwPG4fIy2w4"
   },
   "source": [
    "<h1>Задача 2. Дана матрица M, напишите функцию, которая бинаризует матрицу по некоторому threshold (то есть, все значения большие threshold становятся равными 1, иначе 0). Напишите тесты для кода"
   ]
  },
  {
   "cell_type": "code",
   "execution_count": 10,
   "metadata": {
    "id": "KQDNMgsjRNH7"
   },
   "outputs": [],
   "source": [
    "def binarize(M, threshold=0.5):\n",
    "    return np.where(M > threshold, 1, 0)\n",
    "\n",
    "M = np.array([[0.2, 0.4], [0.6, 0.8]])\n",
    "assert np.all(np.array([[0, 0], [1, 1]]) == binarize(M, 0.5))\n",
    "\n",
    "M = np.array([[0.5, 0.5], [0.1, 0.9]])\n",
    "assert np.all(np.array([[0, 0], [0, 1]]) == binarize(M, 0.5))\n",
    "\n",
    "M = np.array([[1, 0], [0, 1]])\n",
    "assert np.all(np.array([[1, 0], [0, 1]]) == binarize(M, 0.5))"
   ]
  },
  {
   "cell_type": "markdown",
   "metadata": {
    "id": "IY5L-h-7zWhN"
   },
   "source": [
    "<h1>Задача 3. Напишите функцию, которая возвращает уникальные элементы из каждой строки матрицы. Напишите такую же функцию, но для столбцов. Напишите тесты для кода"
   ]
  },
  {
   "cell_type": "code",
   "execution_count": 13,
   "metadata": {
    "id": "-8dEZhR0SBC-"
   },
   "outputs": [],
   "source": [
    "def uniqueRows(mat):\n",
    "    return [np.unique(row) for row in mat]\n",
    "\n",
    "def uniqueColumns(mat):\n",
    "    return [np.unique(col) for col in mat.T]\n",
    "\n",
    "def test():\n",
    "    mat = np.array([[1, 2, 2], [3, 3, 4], [5, 5, 5]])\n",
    "    \n",
    "    resultRows = uniqueRows(mat)\n",
    "    expectedRows = [np.array([1, 2]), np.array([3, 4]), np.array([5])]\n",
    "    assert all(np.array_equal(r, e) for r, e in zip(resultRows, expectedRows))\n",
    "    \n",
    "    resultColumns = uniqueColumns(mat)\n",
    "    expectedColumns = [np.array([1, 3, 5]), np.array([2, 3, 5]), np.array([2, 4, 5])]\n",
    "    assert all(np.array_equal(r, e) for r, e in zip(resultColumns, expectedColumns))\n",
    "\n",
    "test()"
   ]
  },
  {
   "cell_type": "markdown",
   "metadata": {
    "id": "roYAlo4Jz-lH"
   },
   "source": [
    "<h1>Задача 4. Напишите функцию, которая заполняет матрицу с размерами $(m, n)$ случайными числами, распределенными по нормальному закону. Затем считает мат. ожидание и дисперсию для каждого из столбцов и строк, а также строит для каждой строки и столбца гистограмму значений (использовать функцию hist из модуля matplotlib.plot)"
   ]
  },
  {
   "cell_type": "code",
   "execution_count": 17,
   "metadata": {
    "id": "nZK_71hMSQzv"
   },
   "outputs": [],
   "source": [
    "def generateMatrixAndStats(m, n):\n",
    "    matrix = np.random.normal(loc=0, scale=1, size=(m, n))\n",
    "    rowMeans = np.mean(matrix, axis=1)\n",
    "    rowVariances = np.var(matrix, axis=1)\n",
    "    columnMeans = np.mean(matrix, axis=0)\n",
    "    columnVariances = np.var(matrix, axis=0)\n",
    "\n",
    "    fig, axs = plt.subplots(m + n, 1, figsize=(10, 5 * (m + n)))\n",
    "\n",
    "    for i in range(m):\n",
    "        axs[i].hist(matrix[i], bins=10, alpha=0.7, color='blue')\n",
    "        axs[i].set_title(f'Гистограмма строки {i + 1}')\n",
    "\n",
    "    for j in range(n):\n",
    "        axs[m + j].hist(matrix[:, j], bins=10, alpha=0.7, color='green')\n",
    "        axs[m + j].set_title(f'Гистограмма столбца {j + 1}')"
   ]
  },
  {
   "cell_type": "markdown",
   "metadata": {
    "id": "BDyATNdM0dJ2"
   },
   "source": [
    "<h1>Задача 5. Напишите функцию, которая заполняет матрицу $(m, n)$ в шахматном порядке заданными числами $a$ и $b$. Напишите тесты для кода"
   ]
  },
  {
   "cell_type": "code",
   "execution_count": 19,
   "metadata": {
    "id": "RWNJYWQGecS6"
   },
   "outputs": [],
   "source": [
    "def chess(m, n, a, b):\n",
    "    matrix = [[0] * n for _ in range(m)]\n",
    "    for i in range(m):\n",
    "        for j in range(n):\n",
    "            if (i + j) % 2 == 0:\n",
    "                matrix[i][j] = a\n",
    "            else:\n",
    "                matrix[i][j] = b\n",
    "    return matrix\n",
    "    \n",
    "result1 = chess(2, 2, 1, 0)\n",
    "expected1 = [[1, 0], [0, 1]]\n",
    "assert result1 == expected1\n",
    "\n",
    "result2 = chess(3, 3, 1, 0)\n",
    "expected2 = [[1, 0, 1], [0, 1, 0], [1, 0, 1]]\n",
    "assert result2 == expected2\n",
    "\n",
    "result3 = chess(4, 3, 5, 10)\n",
    "expected3 = [[5, 10, 5], [10, 5, 10], [5, 10, 5], [10, 5, 10]]\n",
    "assert result3 == expected3"
   ]
  },
  {
   "cell_type": "markdown",
   "metadata": {
    "id": "-ymXLtTN0vB6"
   },
   "source": [
    "<h1>Задача 6. Напишите функцию, которая отрисовывает прямоугольник с заданными размерами (a, b) на изображении размера (m, n), цвет фона задайте в схеме RGB, как и цвет прямоугольника. Цвета также должны быть параметрами функции. Напишите аналогичную функцию но для овала с полуосями a и b. Напишите тесты для кода.\n",
    "Примечание: уравнение эллипса (границы овала) можно записать как:\n",
    "<h1>$\\frac{(x-x_0)^2}{a^2}+\\frac{(y-y_0)^2}{b^2}=1$"
   ]
  },
  {
   "cell_type": "code",
   "execution_count": 23,
   "metadata": {
    "id": "sNfl1t_kfOF4"
   },
   "outputs": [],
   "source": [
    "from PIL import Image, ImageDraw\n",
    "\n",
    "def drawRectangle(a, b, m, n, rectangleColor, backgroundColor):\n",
    "    image = Image.new(\"RGB\", (m, n), backgroundColor)\n",
    "    draw = ImageDraw.Draw(image)\n",
    "    upperLeft = ((m - a) // 2, (n - b) // 2)\n",
    "    lowerRight = ((m + a) // 2, (n + b) // 2)\n",
    "    draw.rectangle([upperLeft, lowerRight], fill=rectangleColor)\n",
    "    return image\n",
    "\n",
    "def drawEllipse(a, b, m, n, ellipseColor, backgroundColor):\n",
    "    image = Image.new(\"RGB\", (m, n), backgroundColor)\n",
    "    draw = ImageDraw.Draw(image)\n",
    "    upperLeft = ((m - a) // 2, (n - b) // 2)\n",
    "    lowerRight = ((m + a) // 2, (n + b) // 2)\n",
    "    draw.ellipse([upperLeft, lowerRight], fill=ellipseColor)\n",
    "    return image\n",
    "\n",
    "def testRectangle():\n",
    "    image = drawRectangle(100, 50, 300, 200, (255, 0, 0), (255, 255, 255))\n",
    "    image.show()  \n",
    "\n",
    "def testEllipse():\n",
    "    image = drawEllipse(100, 50, 300, 200, (0, 0, 255), (255, 255, 255))\n",
    "    image.show() \n",
    "    \n",
    "testRectangle()\n",
    "testEllipse()"
   ]
  },
  {
   "cell_type": "markdown",
   "metadata": {
    "id": "S82c38oz244H"
   },
   "source": [
    "<h1>Задача 7. Дан некий временной ряд. Для данного ряда нужно найти его: математическое ожидание, дисперсию, СКО, найти все локальные максимумы и минимумы (локальный максимум - это точка, которая больше своих соседних точек, а локальный минимум - это точка, которая меньше своих соседей), а также вычислить для данного ряда другой ряд, получаемый методом скользящего среднего с размером окна $p$.\n",
    "<h1>Примечание: метод скользящего среднего подразумевает нахождение среднего из подмножетсва ряда размером $p$"
   ]
  },
  {
   "cell_type": "code",
   "execution_count": 27,
   "metadata": {
    "id": "Zb9mIVge5MMt"
   },
   "outputs": [],
   "source": [
    "def analyzeSeries(series, windowSize):\n",
    "    mean = np.mean(series)\n",
    "    var = np.var(series)\n",
    "    std = np.std(series)\n",
    "    localMax = (np.diff(np.sign(np.diff(series))) < 0).nonzero()[0] + 1\n",
    "    localMin = (np.diff(np.sign(np.diff(series))) > 0).nonzero()[0] + 1\n",
    "    movingAvg = np.convolve(series, np.ones(windowSize) / windowSize, mode='valid')  \n",
    "    return mean, var, std, localMax, localMin, movingAvg"
   ]
  },
  {
   "cell_type": "markdown",
   "metadata": {
    "id": "jPkylmOX5O9n"
   },
   "source": [
    "<h1> Задача 8. Дан некоторый вектор с целочисленными метками классов, напишите функцию, которая выполняет one-hot-encoding для данного вектора\n",
    "<h1> One-hot-encoding - представление, в котором на месте метки некоторого класса стоит 1, в остальных позициях стоит 0. Например для вектора [0, 2, 3, 0] one-hot-encoding выглядит как: [[1, 0, 0, 0], [0, 0, 1, 0], [0, 0, 0, 1], [1, 0, 0, 0]]"
   ]
  },
  {
   "cell_type": "code",
   "execution_count": 25,
   "metadata": {
    "id": "Y-jlnZvw56lD"
   },
   "outputs": [],
   "source": [
    "def oneHotEncoding(vector):\n",
    "    classes = np.max(vector) + 1\n",
    "    return np.eye(classes)[vector]\n",
    "\n",
    "def test():\n",
    "    vector = np.array([0, 2, 3, 0])\n",
    "    result = oneHotEncoding(vector)\n",
    "    expected = np.array([[1, 0, 0, 0], [0, 0, 1, 0], [0, 0, 0, 1], [1, 0, 0, 0]])\n",
    "    assert np.all(result == expected)\n",
    "\n",
    "test()"
   ]
  },
  {
   "cell_type": "code",
   "execution_count": null,
   "metadata": {},
   "outputs": [],
   "source": []
  }
 ],
 "metadata": {
  "colab": {
   "provenance": []
  },
  "kernelspec": {
   "display_name": "Python 3 (ipykernel)",
   "language": "python",
   "name": "python3"
  },
  "language_info": {
   "codemirror_mode": {
    "name": "ipython",
    "version": 3
   },
   "file_extension": ".py",
   "mimetype": "text/x-python",
   "name": "python",
   "nbconvert_exporter": "python",
   "pygments_lexer": "ipython3",
   "version": "3.12.4"
  }
 },
 "nbformat": 4,
 "nbformat_minor": 4
}
