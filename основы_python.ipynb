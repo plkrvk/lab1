{
  "cells": [
    {
      "cell_type": "markdown",
      "metadata": {
        "id": "M-DGa20PaHnu"
      },
      "source": [
        "#Задача 1\n",
        "Написать функцию на вход которой подается строка, состоящая из латинских букв.\n",
        "Функция должна вернуть количество гласных букв (a, e, i, o, u) в этой строке. Написать тесты для кода"
      ]
    },
    {
      "cell_type": "code",
      "execution_count": 2,
      "metadata": {
        "id": "XvX8X_JJ6PCb"
      },
      "outputs": [],
      "source": [
        "def countVowels(string):\n",
        "   vowels = ['a','e','i','o','u']\n",
        "   total = 0\n",
        "   for s in string:\n",
        "      if s in vowels:\n",
        "         total += 1\n",
        "   return total\n",
        "\n",
        "#тесты\n",
        "assert countVowels('aeiou') == 5\n",
        "assert countVowels('dfrt') == 0\n",
        "assert countVowels('gtero') == 2"
      ]
    },
    {
      "cell_type": "markdown",
      "metadata": {
        "id": "t2ClV_Y0bbr6"
      },
      "source": [
        "# Задача 2\n",
        "Написать функцию на вход, которой подается строка. Функция должна вернуть true, если\n",
        "каждый символ в строке встречается только 1 раз, иначе должна вернуть false. Написать тесты для кода"
      ]
    },
    {
      "cell_type": "code",
      "execution_count": 3,
      "metadata": {
        "id": "FppbECao6VIz"
      },
      "outputs": [],
      "source": [
        "def isOccursOnce(string):\n",
        "    for i in string:\n",
        "        if string.lower().count(i) > 1:\n",
        "            return False\n",
        "        else:\n",
        "            return True\n",
        "#тесты\n",
        "assert isOccursOnce('топот') == False\n",
        "assert isOccursOnce('поле') == True\n",
        "assert isOccursOnce('круг') == True"
      ]
    },
    {
      "cell_type": "markdown",
      "metadata": {
        "id": "udRiIK1cdt6E"
      },
      "source": [
        "# Задача 3\n",
        "Написать функцию, которая принимает положительное число и возвращает количество\n",
        "бит равных 1 в этом числе. Написать тесты для кода"
      ]
    },
    {
      "cell_type": "code",
      "execution_count": 4,
      "metadata": {
        "id": "6tkfDJRz6dp_"
      },
      "outputs": [],
      "source": [
        "def countBits(n):\n",
        "    return bin(n).count('1')\n",
        "\n",
        "#Тесты\n",
        "assert countBits(10) == 2\n",
        "assert countBits(15) == 4\n",
        "assert countBits(5) == 2"
      ]
    },
    {
      "cell_type": "markdown",
      "metadata": {
        "id": "26dDUz-Ae17N"
      },
      "source": [
        "# Задача 4\n",
        "Написать функцию, которая принимает положительное число. Функция должна вернуть то,\n",
        "сколько раз необходимо перемножать цифры числа или результат перемножения, чтобы\n",
        "получилось число состоящее из одной цифры.\n",
        "Например, для входного числа:\n",
        "· 39 функция должна вернуть 3, так как 3*9=27 => 2*7=14 => 1*4=4\n",
        "· 4 функция должна вернуть 0, так как число уже состоит из одной цифры\n",
        "· 999 функция должна вернуть 4, так как 9*9*9=729 => 7*2*9=126 => 1*2*6=12 =>\n",
        "1*2=2. Написать тесты для кода"
      ]
    },
    {
      "cell_type": "code",
      "execution_count": 14,
      "metadata": {
        "id": "BH1A_Mgi6i4G"
      },
      "outputs": [],
      "source": [
        "from functools import reduce\n",
        "\n",
        "def magic(n):\n",
        "    count = 0\n",
        "    while n > 9:\n",
        "        n = reduce(lambda x, y: x*int(y), str(n), 1)\n",
        "        count += 1\n",
        "    return count\n",
        "\n",
        "#Тесты\n",
        "assert magic(999) == 4\n",
        "assert magic(39) == 3\n",
        "assert magic(4) == 0"
      ]
    },
    {
      "cell_type": "markdown",
      "metadata": {
        "id": "0nS-kIa8g8vd"
      },
      "source": [
        "# Задача 5\n",
        "Написать функцию, которая принимает два целочисленных вектора одинаковой длины и\n",
        "возвращает среднеквадратическое отклонение двух векторов. Написать тесты для кода"
      ]
    },
    {
      "cell_type": "code",
      "execution_count": 16,
      "metadata": {
        "id": "8iphx4LM6xbx"
      },
      "outputs": [
        {
          "data": {
            "text/plain": [
              "True"
            ]
          },
          "execution_count": 16,
          "metadata": {},
          "output_type": "execute_result"
        }
      ],
      "source": [
        "import math\n",
        "\n",
        "def mse(pred, true):\n",
        "    return sum((p - t) ** 2 for p, t in zip(pred, true)) / len(pred)\n",
        "\n",
        "#Тесты\n",
        "assert mse([1, 2, 3], [1, 2, 3]) == 0\n",
        "assert mse([1, 2, 3], [4, 5, 6]) == 9\n",
        "mse([-1, -2, -3], [-1, -3, -3]) == 0.3333333333333333"
      ]
    },
    {
      "cell_type": "markdown",
      "metadata": {
        "id": "vpIPKL439zkw"
      },
      "source": [
        "# Задача 6\n",
        "Написать функцию, принимающая целое положительное число. Функция должна вернуть\n",
        "строку вида “(n1**p1)(n2**p2)…(nk**pk)” представляющая разложение числа на простые\n",
        "множители (если pi == 1, то выводить только ni).\n",
        "Например, для числа 86240 функция должна вернуть “(2**5)(5)(7**2)(11)”. Написать тесты для кода"
      ]
    },
    {
      "cell_type": "code",
      "execution_count": 18,
      "metadata": {
        "id": "pFebmcZk94Jw"
      },
      "outputs": [],
      "source": [
        "def primeFactor(n):\n",
        "    factors = {}\n",
        "    while n % 2 == 0:\n",
        "        if 2 in factors:\n",
        "            factors[2] += 1\n",
        "        else:\n",
        "            factors[2] = 1\n",
        "        n //= 2\n",
        "    for i in range(3, int(n**0.5) + 1, 2):\n",
        "        while n % i == 0:\n",
        "            if i in factors:\n",
        "                factors[i] += 1\n",
        "            else:\n",
        "                factors[i] = 1\n",
        "            n //= i\n",
        "    if n > 2:\n",
        "        factors[n] = 1\n",
        "    result = ''\n",
        "    for base, exponent in factors.items():\n",
        "        if exponent == 1:\n",
        "            result += f'({base})'\n",
        "        else:\n",
        "            result += f'({base}**{exponent})'\n",
        "    return result\n",
        "#Тесты\n",
        "\n",
        "assert primeFactor(86240) == \"(2**5)(5)(7**2)(11)\"\n",
        "assert primeFactor(60) == \"(2**2)(3)(5)\"\n",
        "assert primeFactor(28) == \"(2**2)(7)\""
      ]
    },
    {
      "cell_type": "markdown",
      "metadata": {
        "id": "ps2s0BudX7A2"
      },
      "source": [
        "# Задача 7\n",
        "Написать функцию, принимающая целое число n, задающее количество кубиков. Функция\n",
        "должна определить, можно ли из данного кол-ва кубиков построить пирамиду, то есть\n",
        "можно ли представить число n как 1^2+2^2+3^2+…+k^2. Если можно, то функция должна\n",
        "вернуть k, иначе строку “It is impossible”. Написать тесты для кода"
      ]
    },
    {
      "cell_type": "code",
      "execution_count": 24,
      "metadata": {
        "id": "3YPjEXxhX_YT"
      },
      "outputs": [],
      "source": [
        "def pyramid(n):\n",
        "    if n < 1:\n",
        "        return \"It is impossible\"\n",
        "    k = 1\n",
        "    total_cubes = 0\n",
        "    while total_cubes < n:\n",
        "        total_cubes += k**2\n",
        "        if total_cubes == n:\n",
        "            return k\n",
        "        k += 1\n",
        "    return \"It is impossible\"\n",
        "#Тесты\n",
        "\n",
        "assert pyramid(14) == 3\n",
        "assert pyramid(30) == 4\n",
        "assert pyramid(3) == \"It is impossible\"\n",
        "\n",
        "\n"
      ]
    },
    {
      "cell_type": "markdown",
      "metadata": {
        "id": "KeKgmIdAQMEJ"
      },
      "source": [
        "# Задача 8\n",
        "Функция принимает на вход положительное число и определяет является ли оно сбалансированным, т.е. сумма цифр до средних равна сумме цифр после. Средними в случае нечетного числа цифр считать одну цифру, в случае четного - две средних. Написать тесты для кода"
      ]
    },
    {
      "cell_type": "code",
      "execution_count": 25,
      "metadata": {
        "id": "gMAAqtqlQrZt"
      },
      "outputs": [],
      "source": [
        "def isBalanced(n):\n",
        "    digits = [int(d) for d in str(n)]\n",
        "    length = len(digits)\n",
        "    if length == 1:\n",
        "        return True\n",
        "    if length % 2 == 0:\n",
        "        mid1 = length // 2 - 1\n",
        "        mid2 = mid1 + 1\n",
        "        leftSum = sum(digits[:mid1 + 1])\n",
        "        rightSum = sum(digits[mid2:])\n",
        "    else:\n",
        "        mid = length // 2\n",
        "        leftSum = sum(digits[:mid])\n",
        "        rightSum = sum(digits[mid + 1:])\n",
        "    \n",
        "    return leftSum == rightSum\n",
        "\n",
        "#Тесты \n",
        "assert isBalanced(1234321) == True\n",
        "assert isBalanced(34784) == False\n",
        "assert isBalanced(232) == True"
      ]
    }
  ],
  "metadata": {
    "colab": {
      "provenance": []
    },
    "kernelspec": {
      "display_name": "Python 3",
      "name": "python3"
    },
    "language_info": {
      "codemirror_mode": {
        "name": "ipython",
        "version": 3
      },
      "file_extension": ".py",
      "mimetype": "text/x-python",
      "name": "python",
      "nbconvert_exporter": "python",
      "pygments_lexer": "ipython3",
      "version": "3.12.6"
    }
  },
  "nbformat": 4,
  "nbformat_minor": 0
}
